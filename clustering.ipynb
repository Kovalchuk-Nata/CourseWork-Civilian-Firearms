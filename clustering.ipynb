{
  "nbformat": 4,
  "nbformat_minor": 0,
  "metadata": {
    "colab": {
      "name": "clustering.ipynb",
      "provenance": [],
      "collapsed_sections": [],
      "toc_visible": true
    },
    "kernelspec": {
      "name": "python3",
      "display_name": "Python 3"
    },
    "language_info": {
      "name": "python"
    }
  },
  "cells": [
    {
      "cell_type": "markdown",
      "source": [
        "# Ієрархічна кластеризація"
      ],
      "metadata": {
        "id": "bZt2D8O9oTNF"
      }
    },
    {
      "cell_type": "markdown",
      "source": [
        "* Імпортуємо бібліотеки:"
      ],
      "metadata": {
        "id": "nZsug3sBtNDO"
      }
    },
    {
      "cell_type": "code",
      "execution_count": 4,
      "metadata": {
        "id": "NJrBsBpotCZp"
      },
      "outputs": [],
      "source": [
        "import numpy as np\n",
        "import matplotlib.pyplot as plt\n",
        "import pandas as pd\n",
        "from scipy.cluster.hierarchy import linkage, dendrogram\n",
        "from sklearn.cluster import AgglomerativeClustering"
      ]
    },
    {
      "cell_type": "markdown",
      "source": [
        "* Зчитуємо набори даних:\n",
        "\n"
      ],
      "metadata": {
        "id": "bMdBmaLOmee3"
      }
    },
    {
      "cell_type": "code",
      "source": [
        "dataset = pd.read_csv('/content/drive/MyDrive/FirstDataset.csv')\n",
        "data = dataset.iloc[:, 2:4].values"
      ],
      "metadata": {
        "id": "ytcVSMrDtSx_"
      },
      "execution_count": 8,
      "outputs": []
    },
    {
      "cell_type": "code",
      "source": [
        "dataset.describe()"
      ],
      "metadata": {
        "colab": {
          "base_uri": "https://localhost:8080/",
          "height": 300
        },
        "id": "-wtT6n8swELP",
        "outputId": "3183aba2-6740-4d68-b15e-c80e1e0aa0bd"
      },
      "execution_count": 9,
      "outputs": [
        {
          "output_type": "execute_result",
          "data": {
            "text/plain": [
              "                 GNI  Quality of Life Index  Crime Index  Сivilian firearms\n",
              "count     214.000000             214.000000   214.000000         214.000000\n",
              "mean    16918.827103             105.115140    45.850327           9.852804\n",
              "std     23818.609301              39.812885    16.319189          12.328857\n",
              "min       270.000000              13.920000    10.820000           0.000000\n",
              "25%      2300.000000              72.725000    33.285000           2.100000\n",
              "50%      6600.000000              98.530000    46.490000           5.900000\n",
              "75%     21975.000000             133.672500    57.235000          13.925000\n",
              "max    173000.000000             198.390000    85.830000         120.500000"
            ],
            "text/html": [
              "\n",
              "  <div id=\"df-b76dfb7e-bb3c-4c76-baf2-3d6fe5c6fe58\">\n",
              "    <div class=\"colab-df-container\">\n",
              "      <div>\n",
              "<style scoped>\n",
              "    .dataframe tbody tr th:only-of-type {\n",
              "        vertical-align: middle;\n",
              "    }\n",
              "\n",
              "    .dataframe tbody tr th {\n",
              "        vertical-align: top;\n",
              "    }\n",
              "\n",
              "    .dataframe thead th {\n",
              "        text-align: right;\n",
              "    }\n",
              "</style>\n",
              "<table border=\"1\" class=\"dataframe\">\n",
              "  <thead>\n",
              "    <tr style=\"text-align: right;\">\n",
              "      <th></th>\n",
              "      <th>GNI</th>\n",
              "      <th>Quality of Life Index</th>\n",
              "      <th>Crime Index</th>\n",
              "      <th>Сivilian firearms</th>\n",
              "    </tr>\n",
              "  </thead>\n",
              "  <tbody>\n",
              "    <tr>\n",
              "      <th>count</th>\n",
              "      <td>214.000000</td>\n",
              "      <td>214.000000</td>\n",
              "      <td>214.000000</td>\n",
              "      <td>214.000000</td>\n",
              "    </tr>\n",
              "    <tr>\n",
              "      <th>mean</th>\n",
              "      <td>16918.827103</td>\n",
              "      <td>105.115140</td>\n",
              "      <td>45.850327</td>\n",
              "      <td>9.852804</td>\n",
              "    </tr>\n",
              "    <tr>\n",
              "      <th>std</th>\n",
              "      <td>23818.609301</td>\n",
              "      <td>39.812885</td>\n",
              "      <td>16.319189</td>\n",
              "      <td>12.328857</td>\n",
              "    </tr>\n",
              "    <tr>\n",
              "      <th>min</th>\n",
              "      <td>270.000000</td>\n",
              "      <td>13.920000</td>\n",
              "      <td>10.820000</td>\n",
              "      <td>0.000000</td>\n",
              "    </tr>\n",
              "    <tr>\n",
              "      <th>25%</th>\n",
              "      <td>2300.000000</td>\n",
              "      <td>72.725000</td>\n",
              "      <td>33.285000</td>\n",
              "      <td>2.100000</td>\n",
              "    </tr>\n",
              "    <tr>\n",
              "      <th>50%</th>\n",
              "      <td>6600.000000</td>\n",
              "      <td>98.530000</td>\n",
              "      <td>46.490000</td>\n",
              "      <td>5.900000</td>\n",
              "    </tr>\n",
              "    <tr>\n",
              "      <th>75%</th>\n",
              "      <td>21975.000000</td>\n",
              "      <td>133.672500</td>\n",
              "      <td>57.235000</td>\n",
              "      <td>13.925000</td>\n",
              "    </tr>\n",
              "    <tr>\n",
              "      <th>max</th>\n",
              "      <td>173000.000000</td>\n",
              "      <td>198.390000</td>\n",
              "      <td>85.830000</td>\n",
              "      <td>120.500000</td>\n",
              "    </tr>\n",
              "  </tbody>\n",
              "</table>\n",
              "</div>\n",
              "      <button class=\"colab-df-convert\" onclick=\"convertToInteractive('df-b76dfb7e-bb3c-4c76-baf2-3d6fe5c6fe58')\"\n",
              "              title=\"Convert this dataframe to an interactive table.\"\n",
              "              style=\"display:none;\">\n",
              "        \n",
              "  <svg xmlns=\"http://www.w3.org/2000/svg\" height=\"24px\"viewBox=\"0 0 24 24\"\n",
              "       width=\"24px\">\n",
              "    <path d=\"M0 0h24v24H0V0z\" fill=\"none\"/>\n",
              "    <path d=\"M18.56 5.44l.94 2.06.94-2.06 2.06-.94-2.06-.94-.94-2.06-.94 2.06-2.06.94zm-11 1L8.5 8.5l.94-2.06 2.06-.94-2.06-.94L8.5 2.5l-.94 2.06-2.06.94zm10 10l.94 2.06.94-2.06 2.06-.94-2.06-.94-.94-2.06-.94 2.06-2.06.94z\"/><path d=\"M17.41 7.96l-1.37-1.37c-.4-.4-.92-.59-1.43-.59-.52 0-1.04.2-1.43.59L10.3 9.45l-7.72 7.72c-.78.78-.78 2.05 0 2.83L4 21.41c.39.39.9.59 1.41.59.51 0 1.02-.2 1.41-.59l7.78-7.78 2.81-2.81c.8-.78.8-2.07 0-2.86zM5.41 20L4 18.59l7.72-7.72 1.47 1.35L5.41 20z\"/>\n",
              "  </svg>\n",
              "      </button>\n",
              "      \n",
              "  <style>\n",
              "    .colab-df-container {\n",
              "      display:flex;\n",
              "      flex-wrap:wrap;\n",
              "      gap: 12px;\n",
              "    }\n",
              "\n",
              "    .colab-df-convert {\n",
              "      background-color: #E8F0FE;\n",
              "      border: none;\n",
              "      border-radius: 50%;\n",
              "      cursor: pointer;\n",
              "      display: none;\n",
              "      fill: #1967D2;\n",
              "      height: 32px;\n",
              "      padding: 0 0 0 0;\n",
              "      width: 32px;\n",
              "    }\n",
              "\n",
              "    .colab-df-convert:hover {\n",
              "      background-color: #E2EBFA;\n",
              "      box-shadow: 0px 1px 2px rgba(60, 64, 67, 0.3), 0px 1px 3px 1px rgba(60, 64, 67, 0.15);\n",
              "      fill: #174EA6;\n",
              "    }\n",
              "\n",
              "    [theme=dark] .colab-df-convert {\n",
              "      background-color: #3B4455;\n",
              "      fill: #D2E3FC;\n",
              "    }\n",
              "\n",
              "    [theme=dark] .colab-df-convert:hover {\n",
              "      background-color: #434B5C;\n",
              "      box-shadow: 0px 1px 3px 1px rgba(0, 0, 0, 0.15);\n",
              "      filter: drop-shadow(0px 1px 2px rgba(0, 0, 0, 0.3));\n",
              "      fill: #FFFFFF;\n",
              "    }\n",
              "  </style>\n",
              "\n",
              "      <script>\n",
              "        const buttonEl =\n",
              "          document.querySelector('#df-b76dfb7e-bb3c-4c76-baf2-3d6fe5c6fe58 button.colab-df-convert');\n",
              "        buttonEl.style.display =\n",
              "          google.colab.kernel.accessAllowed ? 'block' : 'none';\n",
              "\n",
              "        async function convertToInteractive(key) {\n",
              "          const element = document.querySelector('#df-b76dfb7e-bb3c-4c76-baf2-3d6fe5c6fe58');\n",
              "          const dataTable =\n",
              "            await google.colab.kernel.invokeFunction('convertToInteractive',\n",
              "                                                     [key], {});\n",
              "          if (!dataTable) return;\n",
              "\n",
              "          const docLinkHtml = 'Like what you see? Visit the ' +\n",
              "            '<a target=\"_blank\" href=https://colab.research.google.com/notebooks/data_table.ipynb>data table notebook</a>'\n",
              "            + ' to learn more about interactive tables.';\n",
              "          element.innerHTML = '';\n",
              "          dataTable['output_type'] = 'display_data';\n",
              "          await google.colab.output.renderOutput(dataTable, element);\n",
              "          const docLink = document.createElement('div');\n",
              "          docLink.innerHTML = docLinkHtml;\n",
              "          element.appendChild(docLink);\n",
              "        }\n",
              "      </script>\n",
              "    </div>\n",
              "  </div>\n",
              "  "
            ]
          },
          "metadata": {},
          "execution_count": 9
        }
      ]
    },
    {
      "cell_type": "markdown",
      "source": [
        "* Виключаємо інформацію про регіони, зберігаємо її для подальшого використання:"
      ],
      "metadata": {
        "id": "CLN2M4bGY7uy"
      }
    },
    {
      "cell_type": "code",
      "source": [
        "varieties = list(dataset.pop('Region'))"
      ],
      "metadata": {
        "id": "8c4GIu_HY6sC"
      },
      "execution_count": 10,
      "outputs": []
    },
    {
      "cell_type": "markdown",
      "source": [
        "* Використовуємо дендрограму для пошуку оптимальної кількості кластерів:"
      ],
      "metadata": {
        "id": "DKahsdIBmYdP"
      }
    },
    {
      "cell_type": "code",
      "source": [
        "import scipy.cluster.hierarchy as sch\n",
        "dendrogram = sch.dendrogram(sch.linkage(data, method = 'ward'), labels=varieties )\n",
        "plt.title('Dendrogram')\n",
        "plt.xlabel('Quality of Life Index')\n",
        "plt.ylabel('Crime Index')\n",
        "plt.show()"
      ],
      "metadata": {
        "id": "NbabzXN8-QQv",
        "colab": {
          "base_uri": "https://localhost:8080/",
          "height": 309
        },
        "outputId": "3d17ef9d-6c75-43ac-bd46-8464b43cf9d0"
      },
      "execution_count": 11,
      "outputs": [
        {
          "output_type": "display_data",
          "data": {
            "text/plain": [
              "<Figure size 432x288 with 1 Axes>"
            ],
            "image/png": "[encoded data removed]"
          },
          "metadata": {
            "needs_background": "light"
          }
        }
      ]
    },
    {
      "cell_type": "markdown",
      "source": [
        "* Тренуємо модель ієрархічної кластеризації на датасеті:"
      ],
      "metadata": {
        "id": "KPiZ30jqnsNI"
      }
    },
    {
      "cell_type": "code",
      "source": [
        "from sklearn.cluster import AgglomerativeClustering\n",
        "hc = AgglomerativeClustering(n_clusters = 2, affinity = 'euclidean', linkage = 'ward')\n",
        "y_hc = hc.fit_predict(data)"
      ],
      "metadata": {
        "id": "y4g8J7_hO1jY"
      },
      "execution_count": 12,
      "outputs": []
    },
    {
      "cell_type": "markdown",
      "source": [
        "* Виконуємо візуалізацію кластеризації:"
      ],
      "metadata": {
        "id": "LkpbiZhboG5l"
      }
    },
    {
      "cell_type": "code",
      "source": [
        "plt.scatter(data[y_hc == 0, 0], data[y_hc == 0, 1], s = 100, c = 'violet', label = 'Cluster 1')\n",
        "plt.scatter(data[y_hc == 1, 0], data[y_hc == 1, 1], s = 100, c = 'blue', label = 'Cluster 2')\n",
        "plt.title('Hierarchial clustering')\n",
        "plt.xlabel('Quality of Life Index')\n",
        "plt.ylabel('Crime Index')\n",
        "plt.legend()\n",
        "plt.show()"
      ],
      "metadata": {
        "colab": {
          "base_uri": "https://localhost:8080/",
          "height": 295
        },
        "id": "44gXtkJkPCYt",
        "outputId": "f32ccf2d-0503-4d69-c8a8-49cb0c562f25"
      },
      "execution_count": 13,
      "outputs": [
        {
          "output_type": "display_data",
          "data": {
            "text/plain": [
              "<Figure size 432x288 with 1 Axes>"
            ],
            "image/png": "[encoded data removed]"
          },
          "metadata": {
            "needs_background": "light"
          }
        }
      ]
    },
    {
      "cell_type": "markdown",
      "source": [
        "* **Зробимо також кластерний аналіз Crime Index та Civilian firearms**"
      ],
      "metadata": {
        "id": "UDAvJcJzvjt_"
      }
    },
    {
      "cell_type": "markdown",
      "source": [
        "* Підключаємо датасет та обираємо відповідні колонки:"
      ],
      "metadata": {
        "id": "iJ0x8TFGr92a"
      }
    },
    {
      "cell_type": "code",
      "source": [
        "dataset1 = pd.read_csv('/content/drive/MyDrive/FirstDataset.csv')\n",
        "data1 = dataset1.iloc[:, [3, 5]].values\n",
        "print(data1)"
      ],
      "metadata": {
        "id": "H1JnbDqxNbLv",
        "colab": {
          "base_uri": "https://localhost:8080/"
        },
        "outputId": "b14dba59-6876-44ec-e052-ddb63c4163f5"
      },
      "execution_count": 15,
      "outputs": [
        {
          "output_type": "stream",
          "name": "stdout",
          "text": [
            "[[ 48.16 120.5 ]\n",
            " [ 69.74  52.8 ]\n",
            " [ 65.95  42.5 ]\n",
            " [ 41.1   39.1 ]\n",
            " [ 38.29  39.1 ]\n",
            " [ 42.95  34.7 ]\n",
            " [ 51.44  34.7 ]\n",
            " [ 32.12  34.7 ]\n",
            " [ 27.25  32.4 ]\n",
            " [ 46.87  31.9 ]\n",
            " [ 23.53  31.7 ]\n",
            " [ 42.63  31.2 ]\n",
            " [ 26.08  30.  ]\n",
            " [ 40.87  29.8 ]\n",
            " [ 13.73  28.8 ]\n",
            " [ 33.85  28.8 ]\n",
            " [ 40.82  28.3 ]\n",
            " [ 21.68  27.6 ]\n",
            " [ 43.3   26.3 ]\n",
            " [ 43.41  23.8 ]\n",
            " [ 49.    23.1 ]\n",
            " [ 38.83  22.3 ]\n",
            " [ 42.01  22.3 ]\n",
            " [ 30.58  21.3 ]\n",
            " [ 52.41  19.6 ]\n",
            " [ 36.37  19.6 ]\n",
            " [ 46.95  19.6 ]\n",
            " [ 25.08  19.6 ]\n",
            " [ 35.71  18.9 ]\n",
            " [ 62.48  18.8 ]\n",
            " [ 40.24  18.7 ]\n",
            " [ 83.58  18.5 ]\n",
            " [ 47.41  17.6 ]\n",
            " [ 30.99  17.4 ]\n",
            " [ 33.41  16.7 ]\n",
            " [ 19.99  16.7 ]\n",
            " [ 49.2   16.7 ]\n",
            " [ 13.78  16.7 ]\n",
            " [ 24.72  16.7 ]\n",
            " [ 15.14  16.7 ]\n",
            " [ 61.24  16.6 ]\n",
            " [ 39.69  16.5 ]\n",
            " [ 53.21  15.9 ]\n",
            " [ 68.93  15.8 ]\n",
            " [ 22.65  15.6 ]\n",
            " [ 64.7   15.4 ]\n",
            " [ 39.31  15.1 ]\n",
            " [ 43.85  14.5 ]\n",
            " [ 45.2   14.4 ]\n",
            " [ 13.24  14.4 ]\n",
            " [ 10.82  14.1 ]\n",
            " [ 74.16  14.1 ]\n",
            " [ 36.9   14.  ]\n",
            " [ 24.13  13.7 ]\n",
            " [ 33.28  13.6 ]\n",
            " [ 60.28  13.3 ]\n",
            " [ 53.68  12.9 ]\n",
            " [ 24.41  12.8 ]\n",
            " [ 45.38  12.7 ]\n",
            " [ 77.01  12.5 ]\n",
            " [ 25.54  12.5 ]\n",
            " [ 40.05  12.5 ]\n",
            " [ 66.41  12.4 ]\n",
            " [ 39.62  12.3 ]\n",
            " [ 53.98  12.1 ]\n",
            " [ 58.26  12.1 ]\n",
            " [ 46.08  12.  ]\n",
            " [ 68.65  12.  ]\n",
            " [ 61.51  11.5 ]\n",
            " [ 62.2   11.5 ]\n",
            " [ 66.39  11.2 ]\n",
            " [ 51.73  11.  ]\n",
            " [ 43.92  10.8 ]\n",
            " [ 34.29  10.5 ]\n",
            " [ 38.65  10.5 ]\n",
            " [ 57.71  10.1 ]\n",
            " [ 24.3   10.1 ]\n",
            " [ 51.6   10.1 ]\n",
            " [ 51.51  10.  ]\n",
            " [ 53.86  10.  ]\n",
            " [ 26.56   9.9 ]\n",
            " [ 46.94   9.9 ]\n",
            " [ 76.06   9.7 ]\n",
            " [ 81.02   9.6 ]\n",
            " [ 33.3    9.2 ]\n",
            " [ 67.84   8.8 ]\n",
            " [ 29.02   8.5 ]\n",
            " [ 38.74   8.4 ]\n",
            " [ 67.01   8.3 ]\n",
            " [ 48.9    8.3 ]\n",
            " [ 67.48   8.2 ]\n",
            " [ 46.81   8.  ]\n",
            " [ 58.13   8.  ]\n",
            " [ 53.73   7.9 ]\n",
            " [ 33.87   7.5 ]\n",
            " [ 64.14   7.4 ]\n",
            " [ 60.94   7.4 ]\n",
            " [ 49.11   7.3 ]\n",
            " [ 45.48   7.2 ]\n",
            " [ 32.12   6.7 ]\n",
            " [ 44.57   6.6 ]\n",
            " [ 54.51   6.5 ]\n",
            " [ 30.18   6.5 ]\n",
            " [ 52.93   6.2 ]\n",
            " [ 54.72   6.2 ]\n",
            " [ 22.13   6.1 ]\n",
            " [ 58.41  26.3 ]\n",
            " [ 53.49   5.7 ]\n",
            " [ 56.92   5.4 ]\n",
            " [ 44.63   5.3 ]\n",
            " [ 47.89   5.2 ]\n",
            " [ 23.82   5.  ]\n",
            " [ 66.7    4.8 ]\n",
            " [ 49.07   4.6 ]\n",
            " [ 11.56   4.6 ]\n",
            " [ 38.74   4.6 ]\n",
            " [ 46.47   4.6 ]\n",
            " [ 22.15   4.6 ]\n",
            " [ 50.74   4.5 ]\n",
            " [ 62.8    4.5 ]\n",
            " [ 57.22   4.4 ]\n",
            " [ 29.02   4.2 ]\n",
            " [ 52.37   4.1 ]\n",
            " [ 46.57   4.1 ]\n",
            " [ 16.78   4.1 ]\n",
            " [ 39.19   4.1 ]\n",
            " [ 44.66   3.9 ]\n",
            " [ 32.25   3.6 ]\n",
            " [ 29.39   3.6 ]\n",
            " [ 20.51   3.6 ]\n",
            " [ 21.92   3.6 ]\n",
            " [ 42.33   3.6 ]\n",
            " [ 46.57   3.5 ]\n",
            " [ 58.61   3.4 ]\n",
            " [ 20.22   3.4 ]\n",
            " [ 60.43   3.4 ]\n",
            " [ 33.99   3.4 ]\n",
            " [ 40.17   3.3 ]\n",
            " [ 63.84   3.2 ]\n",
            " [ 70.59   3.2 ]\n",
            " [ 69.56   3.1 ]\n",
            " [ 34.91   3.  ]\n",
            " [ 47.44   3.  ]\n",
            " [ 53.45   2.8 ]\n",
            " [ 56.59   2.8 ]\n",
            " [ 46.52   2.8 ]\n",
            " [ 59.67   2.8 ]\n",
            " [ 28.42   2.6 ]\n",
            " [ 56.13   2.6 ]\n",
            " [ 72.17   2.6 ]\n",
            " [ 27.88   2.6 ]\n",
            " [ 33.25   2.6 ]\n",
            " [ 28.79   2.6 ]\n",
            " [ 23.02   2.5 ]\n",
            " [ 29.79   2.5 ]\n",
            " [ 71.55   2.4 ]\n",
            " [ 57.24   2.4 ]\n",
            " [ 41.21   2.4 ]\n",
            " [ 53.82   2.1 ]\n",
            " [ 66.59   2.1 ]\n",
            " [ 30.94   2.1 ]\n",
            " [ 80.84   2.1 ]\n",
            " [ 58.28   2.  ]\n",
            " [ 43.24   2.  ]\n",
            " [ 67.1    2.  ]\n",
            " [ 51.28   2.  ]\n",
            " [ 85.83   1.8 ]\n",
            " [ 46.51   1.6 ]\n",
            " [ 45.81   1.6 ]\n",
            " [ 47.06   1.5 ]\n",
            " [ 59.12   1.5 ]\n",
            " [ 56.21   1.5 ]\n",
            " [ 37.54   1.5 ]\n",
            " [ 29.     1.4 ]\n",
            " [ 71.55   1.2 ]\n",
            " [ 21.18   1.2 ]\n",
            " [ 51.59   1.1 ]\n",
            " [ 43.23   1.1 ]\n",
            " [ 44.29   1.1 ]\n",
            " [ 72.29   1.  ]\n",
            " [ 70.93   1.  ]\n",
            " [ 81.19   1.  ]\n",
            " [ 54.81   0.9 ]\n",
            " [ 46.28   0.9 ]\n",
            " [ 30.48   0.8 ]\n",
            " [ 56.3    0.8 ]\n",
            " [ 42.84   0.8 ]\n",
            " [ 56.24   0.8 ]\n",
            " [ 35.85   0.8 ]\n",
            " [ 58.09   0.7 ]\n",
            " [ 64.81   0.7 ]\n",
            " [ 55.71   0.7 ]\n",
            " [ 46.87   0.7 ]\n",
            " [ 55.63   0.5 ]\n",
            " [ 24.26   0.5 ]\n",
            " [ 63.98   0.5 ]\n",
            " [ 55.02   0.5 ]\n",
            " [ 24.35   0.5 ]\n",
            " [ 67.1    0.5 ]\n",
            " [ 63.45   0.4 ]\n",
            " [ 21.21   0.4 ]\n",
            " [ 50.09   0.4 ]\n",
            " [ 46.69   0.4 ]\n",
            " [ 46.09   0.4 ]\n",
            " [ 33.76   0.4 ]\n",
            " [ 31.55   0.3 ]\n",
            " [ 22.12   0.3 ]\n",
            " [ 60.28   0.3 ]\n",
            " [ 57.08   0.3 ]\n",
            " [ 27.64   0.3 ]\n",
            " [ 26.49   0.2 ]\n",
            " [ 62.41   0.2 ]\n",
            " [ 46.12   0.  ]\n",
            " [ 19.12   0.  ]]\n"
          ]
        }
      ]
    },
    {
      "cell_type": "markdown",
      "source": [
        "* Використовуємо дендрограму для пошуку оптимальної кількості кластерів:"
      ],
      "metadata": {
        "id": "uw0JHrVdyhz-"
      }
    },
    {
      "cell_type": "code",
      "source": [
        "import scipy.cluster.hierarchy as sch\n",
        "dendrogram = sch.dendrogram(sch.linkage(data1, method = 'ward'), labels=varieties)\n",
        "plt.title('Dendrogram')\n",
        "plt.xlabel('Crime Index')\n",
        "plt.ylabel('Civilian firearms')\n",
        "plt.show()"
      ],
      "metadata": {
        "colab": {
          "base_uri": "https://localhost:8080/",
          "height": 309
        },
        "id": "c1QIIvxsTZA7",
        "outputId": "bbeccd4f-0152-474f-efba-b8072f7721e0"
      },
      "execution_count": 16,
      "outputs": [
        {
          "output_type": "display_data",
          "data": {
            "text/plain": [
              "<Figure size 432x288 with 1 Axes>"
            ],
            "image/png": "[encoded data removed]"
          },
          "metadata": {
            "needs_background": "light"
          }
        }
      ]
    },
    {
      "cell_type": "markdown",
      "source": [
        "* Тренуємо модель ієрархічної кластеризації на датасеті:"
      ],
      "metadata": {
        "id": "hfiNhxZVyhz-"
      }
    },
    {
      "cell_type": "code",
      "source": [
        "from sklearn.cluster import AgglomerativeClustering\n",
        "hc = AgglomerativeClustering(n_clusters = 2, affinity = 'euclidean', linkage = 'ward')\n",
        "y_hc = hc.fit_predict(data1)"
      ],
      "metadata": {
        "id": "KsfE8IthUaW8"
      },
      "execution_count": 17,
      "outputs": []
    },
    {
      "cell_type": "markdown",
      "source": [
        "* Виконуємо візуалізацію кластеризації:"
      ],
      "metadata": {
        "id": "eDaFkJrXyhz-"
      }
    },
    {
      "cell_type": "code",
      "source": [
        "plt.scatter(data1[y_hc == 0, 0], data1[y_hc == 0, 1], s = 100, c = 'violet', label = 'Cluster 1')\n",
        "plt.scatter(data1[y_hc == 1, 0], data1[y_hc == 1, 1], s = 100, c = 'blue', label = 'Cluster 2')\n",
        "plt.title('Hierarchial clustering')\n",
        "plt.xlabel('Civilian firearms')\n",
        "plt.ylabel('Crime Index')\n",
        "plt.legend()\n",
        "plt.show()"
      ],
      "metadata": {
        "colab": {
          "base_uri": "https://localhost:8080/",
          "height": 295
        },
        "id": "OHdzCFF9h506",
        "outputId": "2fa00836-d63c-4720-d12c-d875df92b1cc"
      },
      "execution_count": 18,
      "outputs": [
        {
          "output_type": "display_data",
          "data": {
            "text/plain": [
              "<Figure size 432x288 with 1 Axes>"
            ],
            "image/png": "[encoded data removed]"
          },
          "metadata": {
            "needs_background": "light"
          }
        }
      ]
    }
  ]
}