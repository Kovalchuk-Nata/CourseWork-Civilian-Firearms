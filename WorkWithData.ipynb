{
  "nbformat": 4,
  "nbformat_minor": 0,
  "metadata": {
    "colab": {
      "name": "WorkWithData.ipynb",
      "provenance": [],
      "toc_visible": true,
      "collapsed_sections": []
    },
    "kernelspec": {
      "name": "python3",
      "display_name": "Python 3"
    },
    "language_info": {
      "name": "python"
    }
  },
  "cells": [
    {
      "cell_type": "markdown",
      "source": [
        "\n",
        "\n",
        "> # **Data Processing**\n",
        "\n"
      ],
      "metadata": {
        "id": "Rt2hMJP58qv6"
      }
    },
    {
      "cell_type": "markdown",
      "source": [
        "* Імпортуємо бібліотеки:"
      ],
      "metadata": {
        "id": "MdROqec7zqew"
      }
    },
    {
      "cell_type": "code",
      "execution_count": 36,
      "metadata": {
        "id": "FNGieiN8vn4X"
      },
      "outputs": [],
      "source": [
        "import pandas as pd "
      ]
    },
    {
      "cell_type": "markdown",
      "source": [
        "* Зчитуємо датасет та виводимо перші 5 значень:"
      ],
      "metadata": {
        "id": "4rUqD6q4y6Tc"
      }
    },
    {
      "cell_type": "code",
      "execution_count": 37,
      "metadata": {
        "id": "igcPuDGGllhk",
        "colab": {
          "base_uri": "https://localhost:8080/",
          "height": 302
        },
        "outputId": "d4c34c77-caee-444a-d182-457484a688e9"
      },
      "outputs": [
        {
          "output_type": "execute_result",
          "data": {
            "text/plain": [
              "      Country  Civilian firearms per 100 persons    GDP  \\\n",
              "0  Montenegro                               39.1   7900   \n",
              "1      Serbia                               39.1   7400   \n",
              "2      Canada                               34.7  43400   \n",
              "3     Uruguay                               34.7  15800   \n",
              "4      Cyprus                               34.7  26100   \n",
              "\n",
              "   Quality of Life Index  Crime Index         Income group    Region  \\\n",
              "0                 134.85        41.10  Upper middle income    Europe   \n",
              "1                 117.23        38.29  Upper middle income    Europe   \n",
              "2                 160.38        42.95          High income  Americas   \n",
              "3                 122.26        51.44          High income  Americas   \n",
              "4                 147.10        32.12          High income  Americas   \n",
              "\n",
              "         Subregion Population  Estimate of firearms in civilian possession  \\\n",
              "0  Southern Europe     626000                                       245000   \n",
              "1  Southern Europe    6946000                                      2719000   \n",
              "2    North America   36626000                                     12708000   \n",
              "3    South America    3457000                                      1198000   \n",
              "4    South America    3457000                                      1198000   \n",
              "\n",
              "  Registered firearms Unregistered firearms  \n",
              "0             103,536               141,464  \n",
              "1           1,186,086             1,532,914  \n",
              "2           2,081,442            10,626,558  \n",
              "3             605,313               592,687  \n",
              "4             605,313               592,687  "
            ],
            "text/html": [
              "\n",
              "  <div id=\"df-58dfa1ab-c639-481f-92e4-3ceb2860110d\">\n",
              "    <div class=\"colab-df-container\">\n",
              "      <div>\n",
              "<style scoped>\n",
              "    .dataframe tbody tr th:only-of-type {\n",
              "        vertical-align: middle;\n",
              "    }\n",
              "\n",
              "    .dataframe tbody tr th {\n",
              "        vertical-align: top;\n",
              "    }\n",
              "\n",
              "    .dataframe thead th {\n",
              "        text-align: right;\n",
              "    }\n",
              "</style>\n",
              "<table border=\"1\" class=\"dataframe\">\n",
              "  <thead>\n",
              "    <tr style=\"text-align: right;\">\n",
              "      <th></th>\n",
              "      <th>Country</th>\n",
              "      <th>Civilian firearms per 100 persons</th>\n",
              "      <th>GDP</th>\n",
              "      <th>Quality of Life Index</th>\n",
              "      <th>Crime Index</th>\n",
              "      <th>Income group</th>\n",
              "      <th>Region</th>\n",
              "      <th>Subregion</th>\n",
              "      <th>Population</th>\n",
              "      <th>Estimate of firearms in civilian possession</th>\n",
              "      <th>Registered firearms</th>\n",
              "      <th>Unregistered firearms</th>\n",
              "    </tr>\n",
              "  </thead>\n",
              "  <tbody>\n",
              "    <tr>\n",
              "      <th>0</th>\n",
              "      <td>Montenegro</td>\n",
              "      <td>39.1</td>\n",
              "      <td>7900</td>\n",
              "      <td>134.85</td>\n",
              "      <td>41.10</td>\n",
              "      <td>Upper middle income</td>\n",
              "      <td>Europe</td>\n",
              "      <td>Southern Europe</td>\n",
              "      <td>626000</td>\n",
              "      <td>245000</td>\n",
              "      <td>103,536</td>\n",
              "      <td>141,464</td>\n",
              "    </tr>\n",
              "    <tr>\n",
              "      <th>1</th>\n",
              "      <td>Serbia</td>\n",
              "      <td>39.1</td>\n",
              "      <td>7400</td>\n",
              "      <td>117.23</td>\n",
              "      <td>38.29</td>\n",
              "      <td>Upper middle income</td>\n",
              "      <td>Europe</td>\n",
              "      <td>Southern Europe</td>\n",
              "      <td>6946000</td>\n",
              "      <td>2719000</td>\n",
              "      <td>1,186,086</td>\n",
              "      <td>1,532,914</td>\n",
              "    </tr>\n",
              "    <tr>\n",
              "      <th>2</th>\n",
              "      <td>Canada</td>\n",
              "      <td>34.7</td>\n",
              "      <td>43400</td>\n",
              "      <td>160.38</td>\n",
              "      <td>42.95</td>\n",
              "      <td>High income</td>\n",
              "      <td>Americas</td>\n",
              "      <td>North America</td>\n",
              "      <td>36626000</td>\n",
              "      <td>12708000</td>\n",
              "      <td>2,081,442</td>\n",
              "      <td>10,626,558</td>\n",
              "    </tr>\n",
              "    <tr>\n",
              "      <th>3</th>\n",
              "      <td>Uruguay</td>\n",
              "      <td>34.7</td>\n",
              "      <td>15800</td>\n",
              "      <td>122.26</td>\n",
              "      <td>51.44</td>\n",
              "      <td>High income</td>\n",
              "      <td>Americas</td>\n",
              "      <td>South America</td>\n",
              "      <td>3457000</td>\n",
              "      <td>1198000</td>\n",
              "      <td>605,313</td>\n",
              "      <td>592,687</td>\n",
              "    </tr>\n",
              "    <tr>\n",
              "      <th>4</th>\n",
              "      <td>Cyprus</td>\n",
              "      <td>34.7</td>\n",
              "      <td>26100</td>\n",
              "      <td>147.10</td>\n",
              "      <td>32.12</td>\n",
              "      <td>High income</td>\n",
              "      <td>Americas</td>\n",
              "      <td>South America</td>\n",
              "      <td>3457000</td>\n",
              "      <td>1198000</td>\n",
              "      <td>605,313</td>\n",
              "      <td>592,687</td>\n",
              "    </tr>\n",
              "  </tbody>\n",
              "</table>\n",
              "</div>\n",
              "      <button class=\"colab-df-convert\" onclick=\"convertToInteractive('df-58dfa1ab-c639-481f-92e4-3ceb2860110d')\"\n",
              "              title=\"Convert this dataframe to an interactive table.\"\n",
              "              style=\"display:none;\">\n",
              "        \n",
              "  <svg xmlns=\"http://www.w3.org/2000/svg\" height=\"24px\"viewBox=\"0 0 24 24\"\n",
              "       width=\"24px\">\n",
              "    <path d=\"M0 0h24v24H0V0z\" fill=\"none\"/>\n",
              "    <path d=\"M18.56 5.44l.94 2.06.94-2.06 2.06-.94-2.06-.94-.94-2.06-.94 2.06-2.06.94zm-11 1L8.5 8.5l.94-2.06 2.06-.94-2.06-.94L8.5 2.5l-.94 2.06-2.06.94zm10 10l.94 2.06.94-2.06 2.06-.94-2.06-.94-.94-2.06-.94 2.06-2.06.94z\"/><path d=\"M17.41 7.96l-1.37-1.37c-.4-.4-.92-.59-1.43-.59-.52 0-1.04.2-1.43.59L10.3 9.45l-7.72 7.72c-.78.78-.78 2.05 0 2.83L4 21.41c.39.39.9.59 1.41.59.51 0 1.02-.2 1.41-.59l7.78-7.78 2.81-2.81c.8-.78.8-2.07 0-2.86zM5.41 20L4 18.59l7.72-7.72 1.47 1.35L5.41 20z\"/>\n",
              "  </svg>\n",
              "      </button>\n",
              "      \n",
              "  <style>\n",
              "    .colab-df-container {\n",
              "      display:flex;\n",
              "      flex-wrap:wrap;\n",
              "      gap: 12px;\n",
              "    }\n",
              "\n",
              "    .colab-df-convert {\n",
              "      background-color: #E8F0FE;\n",
              "      border: none;\n",
              "      border-radius: 50%;\n",
              "      cursor: pointer;\n",
              "      display: none;\n",
              "      fill: #1967D2;\n",
              "      height: 32px;\n",
              "      padding: 0 0 0 0;\n",
              "      width: 32px;\n",
              "    }\n",
              "\n",
              "    .colab-df-convert:hover {\n",
              "      background-color: #E2EBFA;\n",
              "      box-shadow: 0px 1px 2px rgba(60, 64, 67, 0.3), 0px 1px 3px 1px rgba(60, 64, 67, 0.15);\n",
              "      fill: #174EA6;\n",
              "    }\n",
              "\n",
              "    [theme=dark] .colab-df-convert {\n",
              "      background-color: #3B4455;\n",
              "      fill: #D2E3FC;\n",
              "    }\n",
              "\n",
              "    [theme=dark] .colab-df-convert:hover {\n",
              "      background-color: #434B5C;\n",
              "      box-shadow: 0px 1px 3px 1px rgba(0, 0, 0, 0.15);\n",
              "      filter: drop-shadow(0px 1px 2px rgba(0, 0, 0, 0.3));\n",
              "      fill: #FFFFFF;\n",
              "    }\n",
              "  </style>\n",
              "\n",
              "      <script>\n",
              "        const buttonEl =\n",
              "          document.querySelector('#df-58dfa1ab-c639-481f-92e4-3ceb2860110d button.colab-df-convert');\n",
              "        buttonEl.style.display =\n",
              "          google.colab.kernel.accessAllowed ? 'block' : 'none';\n",
              "\n",
              "        async function convertToInteractive(key) {\n",
              "          const element = document.querySelector('#df-58dfa1ab-c639-481f-92e4-3ceb2860110d');\n",
              "          const dataTable =\n",
              "            await google.colab.kernel.invokeFunction('convertToInteractive',\n",
              "                                                     [key], {});\n",
              "          if (!dataTable) return;\n",
              "\n",
              "          const docLinkHtml = 'Like what you see? Visit the ' +\n",
              "            '<a target=\"_blank\" href=https://colab.research.google.com/notebooks/data_table.ipynb>data table notebook</a>'\n",
              "            + ' to learn more about interactive tables.';\n",
              "          element.innerHTML = '';\n",
              "          dataTable['output_type'] = 'display_data';\n",
              "          await google.colab.output.renderOutput(dataTable, element);\n",
              "          const docLink = document.createElement('div');\n",
              "          docLink.innerHTML = docLinkHtml;\n",
              "          element.appendChild(docLink);\n",
              "        }\n",
              "      </script>\n",
              "    </div>\n",
              "  </div>\n",
              "  "
            ]
          },
          "metadata": {},
          "execution_count": 37
        }
      ],
      "source": [
        "dataset = pd.read_csv('/content/drive/MyDrive/list2.csv')\n",
        "dataset.head()"
      ]
    },
    {
      "cell_type": "markdown",
      "source": [
        "* Застосуємо функцію для опису всього датафрейму:"
      ],
      "metadata": {
        "id": "liG99xSa_LOU"
      }
    },
    {
      "cell_type": "code",
      "source": [
        "dataset.info()"
      ],
      "metadata": {
        "colab": {
          "base_uri": "https://localhost:8080/"
        },
        "id": "Y_ZBjT-y_Lee",
        "outputId": "62378c3e-a973-47fd-bf4e-58edd72e3c98"
      },
      "execution_count": 38,
      "outputs": [
        {
          "output_type": "stream",
          "name": "stdout",
          "text": [
            "<class 'pandas.core.frame.DataFrame'>\n",
            "RangeIndex: 208 entries, 0 to 207\n",
            "Data columns (total 12 columns):\n",
            " #   Column                                       Non-Null Count  Dtype  \n",
            "---  ------                                       --------------  -----  \n",
            " 0   Country                                      208 non-null    object \n",
            " 1   Civilian firearms per 100 persons            208 non-null    float64\n",
            " 2   GDP                                          208 non-null    int64  \n",
            " 3   Quality of Life Index                        208 non-null    float64\n",
            " 4   Crime Index                                  208 non-null    float64\n",
            " 5   Income group                                 208 non-null    object \n",
            " 6   Region                                       208 non-null    object \n",
            " 7   Subregion                                    208 non-null    object \n",
            " 8   Population                                   208 non-null    object \n",
            " 9   Estimate of firearms in civilian possession  208 non-null    int64  \n",
            " 10  Registered firearms                          127 non-null    object \n",
            " 11  Unregistered firearms                        127 non-null    object \n",
            "dtypes: float64(3), int64(2), object(7)\n",
            "memory usage: 19.6+ KB\n"
          ]
        }
      ]
    },
    {
      "cell_type": "markdown",
      "source": [
        "* Дізнаємося чи є в датасеті нульові поля:"
      ],
      "metadata": {
        "id": "e13FK5bbAmvm"
      }
    },
    {
      "cell_type": "code",
      "source": [
        "dataset.isnull().any()"
      ],
      "metadata": {
        "colab": {
          "base_uri": "https://localhost:8080/"
        },
        "id": "kuzWkU1vAmEq",
        "outputId": "9dc0ac9c-343c-4df9-c47d-b3c21780b4ff"
      },
      "execution_count": 39,
      "outputs": [
        {
          "output_type": "execute_result",
          "data": {
            "text/plain": [
              "Country                                        False\n",
              "Civilian firearms per 100 persons              False\n",
              "GDP                                            False\n",
              "Quality of Life Index                          False\n",
              "Crime Index                                    False\n",
              "Income group                                   False\n",
              "Region                                         False\n",
              "Subregion                                      False\n",
              "Population                                     False\n",
              "Estimate of firearms in civilian possession    False\n",
              "Registered firearms                             True\n",
              "Unregistered firearms                           True\n",
              "dtype: bool"
            ]
          },
          "metadata": {},
          "execution_count": 39
        }
      ]
    },
    {
      "cell_type": "markdown",
      "source": [
        "* Подивимость на кількість незаповнених даних:"
      ],
      "metadata": {
        "id": "gm4Oi4JYA3h1"
      }
    },
    {
      "cell_type": "code",
      "source": [
        "dataset.isna().sum()"
      ],
      "metadata": {
        "colab": {
          "base_uri": "https://localhost:8080/"
        },
        "id": "dyCe0am5_awF",
        "outputId": "de9e53a2-a40e-40cf-a2a5-fca34dd963aa"
      },
      "execution_count": 40,
      "outputs": [
        {
          "output_type": "execute_result",
          "data": {
            "text/plain": [
              "Country                                         0\n",
              "Civilian firearms per 100 persons               0\n",
              "GDP                                             0\n",
              "Quality of Life Index                           0\n",
              "Crime Index                                     0\n",
              "Income group                                    0\n",
              "Region                                          0\n",
              "Subregion                                       0\n",
              "Population                                      0\n",
              "Estimate of firearms in civilian possession     0\n",
              "Registered firearms                            81\n",
              "Unregistered firearms                          81\n",
              "dtype: int64"
            ]
          },
          "metadata": {},
          "execution_count": 40
        }
      ]
    },
    {
      "cell_type": "markdown",
      "source": [
        "* Приберемо неважливі стопбчики"
      ],
      "metadata": {
        "id": "0TZ-rBOZ9srm"
      }
    },
    {
      "cell_type": "code",
      "source": [
        "def delete_col(dataset, col):\n",
        "    for column in col:\n",
        "        dataset = dataset.drop(column, axis = 1)\n",
        "    return dataset\n",
        "\n",
        "dataset = delete_col(dataset, ['Estimate of firearms in civilian possession', 'Registered firearms', 'Unregistered firearms'])"
      ],
      "metadata": {
        "id": "QmnhqcnA9s4y"
      },
      "execution_count": 41,
      "outputs": []
    },
    {
      "cell_type": "markdown",
      "source": [
        "* Переконвертуємо типи даних стовпчика GDP"
      ],
      "metadata": {
        "id": "VLZU0by0EDZa"
      }
    },
    {
      "cell_type": "code",
      "source": [
        "def convertToFloat(dataset, col):\n",
        "        dataset[col] = dataset[col].astype(float)\n",
        "\n",
        "convertToFloat(dataset, 'GDP')\n",
        "dataset.info()"
      ],
      "metadata": {
        "colab": {
          "base_uri": "https://localhost:8080/"
        },
        "id": "6HMikMfcEDrG",
        "outputId": "fcdfc50d-b034-4364-e9bc-008bc4f07d6a"
      },
      "execution_count": 42,
      "outputs": [
        {
          "output_type": "stream",
          "name": "stdout",
          "text": [
            "<class 'pandas.core.frame.DataFrame'>\n",
            "RangeIndex: 208 entries, 0 to 207\n",
            "Data columns (total 9 columns):\n",
            " #   Column                             Non-Null Count  Dtype  \n",
            "---  ------                             --------------  -----  \n",
            " 0   Country                            208 non-null    object \n",
            " 1   Civilian firearms per 100 persons  208 non-null    float64\n",
            " 2   GDP                                208 non-null    float64\n",
            " 3   Quality of Life Index              208 non-null    float64\n",
            " 4   Crime Index                        208 non-null    float64\n",
            " 5   Income group                       208 non-null    object \n",
            " 6   Region                             208 non-null    object \n",
            " 7   Subregion                          208 non-null    object \n",
            " 8   Population                         208 non-null    object \n",
            "dtypes: float64(4), object(5)\n",
            "memory usage: 14.8+ KB\n"
          ]
        }
      ]
    },
    {
      "cell_type": "markdown",
      "source": [
        "* Використаємо функцію, для створення описової статистики:"
      ],
      "metadata": {
        "id": "HGC0WxsEBERH"
      }
    },
    {
      "cell_type": "code",
      "source": [
        "dataset.describe()"
      ],
      "metadata": {
        "colab": {
          "base_uri": "https://localhost:8080/",
          "height": 300
        },
        "id": "dfwm7sHfBLdt",
        "outputId": "39c77569-1706-4511-d8df-b959dd3cb849"
      },
      "execution_count": 43,
      "outputs": [
        {
          "output_type": "execute_result",
          "data": {
            "text/plain": [
              "       Civilian firearms per 100 persons            GDP  \\\n",
              "count                         208.000000     208.000000   \n",
              "mean                            9.036058   16991.293269   \n",
              "std                             9.054099   23824.619917   \n",
              "min                             0.000000     270.000000   \n",
              "25%                             2.100000    2650.000000   \n",
              "50%                             5.550000    6700.000000   \n",
              "75%                            13.625000   22050.000000   \n",
              "max                            39.100000  173000.000000   \n",
              "\n",
              "       Quality of Life Index  Crime Index  \n",
              "count             208.000000   208.000000  \n",
              "mean              106.398365    45.518221  \n",
              "std                38.595918    16.371727  \n",
              "min                46.570000    10.820000  \n",
              "25%                73.852500    33.000000  \n",
              "50%                98.890000    46.105000  \n",
              "75%               133.935000    57.120000  \n",
              "max               198.390000    85.830000  "
            ],
            "text/html": [
              "\n",
              "  <div id=\"df-915e8277-5a2b-49af-a9b2-a5d9dfebf96e\">\n",
              "    <div class=\"colab-df-container\">\n",
              "      <div>\n",
              "<style scoped>\n",
              "    .dataframe tbody tr th:only-of-type {\n",
              "        vertical-align: middle;\n",
              "    }\n",
              "\n",
              "    .dataframe tbody tr th {\n",
              "        vertical-align: top;\n",
              "    }\n",
              "\n",
              "    .dataframe thead th {\n",
              "        text-align: right;\n",
              "    }\n",
              "</style>\n",
              "<table border=\"1\" class=\"dataframe\">\n",
              "  <thead>\n",
              "    <tr style=\"text-align: right;\">\n",
              "      <th></th>\n",
              "      <th>Civilian firearms per 100 persons</th>\n",
              "      <th>GDP</th>\n",
              "      <th>Quality of Life Index</th>\n",
              "      <th>Crime Index</th>\n",
              "    </tr>\n",
              "  </thead>\n",
              "  <tbody>\n",
              "    <tr>\n",
              "      <th>count</th>\n",
              "      <td>208.000000</td>\n",
              "      <td>208.000000</td>\n",
              "      <td>208.000000</td>\n",
              "      <td>208.000000</td>\n",
              "    </tr>\n",
              "    <tr>\n",
              "      <th>mean</th>\n",
              "      <td>9.036058</td>\n",
              "      <td>16991.293269</td>\n",
              "      <td>106.398365</td>\n",
              "      <td>45.518221</td>\n",
              "    </tr>\n",
              "    <tr>\n",
              "      <th>std</th>\n",
              "      <td>9.054099</td>\n",
              "      <td>23824.619917</td>\n",
              "      <td>38.595918</td>\n",
              "      <td>16.371727</td>\n",
              "    </tr>\n",
              "    <tr>\n",
              "      <th>min</th>\n",
              "      <td>0.000000</td>\n",
              "      <td>270.000000</td>\n",
              "      <td>46.570000</td>\n",
              "      <td>10.820000</td>\n",
              "    </tr>\n",
              "    <tr>\n",
              "      <th>25%</th>\n",
              "      <td>2.100000</td>\n",
              "      <td>2650.000000</td>\n",
              "      <td>73.852500</td>\n",
              "      <td>33.000000</td>\n",
              "    </tr>\n",
              "    <tr>\n",
              "      <th>50%</th>\n",
              "      <td>5.550000</td>\n",
              "      <td>6700.000000</td>\n",
              "      <td>98.890000</td>\n",
              "      <td>46.105000</td>\n",
              "    </tr>\n",
              "    <tr>\n",
              "      <th>75%</th>\n",
              "      <td>13.625000</td>\n",
              "      <td>22050.000000</td>\n",
              "      <td>133.935000</td>\n",
              "      <td>57.120000</td>\n",
              "    </tr>\n",
              "    <tr>\n",
              "      <th>max</th>\n",
              "      <td>39.100000</td>\n",
              "      <td>173000.000000</td>\n",
              "      <td>198.390000</td>\n",
              "      <td>85.830000</td>\n",
              "    </tr>\n",
              "  </tbody>\n",
              "</table>\n",
              "</div>\n",
              "      <button class=\"colab-df-convert\" onclick=\"convertToInteractive('df-915e8277-5a2b-49af-a9b2-a5d9dfebf96e')\"\n",
              "              title=\"Convert this dataframe to an interactive table.\"\n",
              "              style=\"display:none;\">\n",
              "        \n",
              "  <svg xmlns=\"http://www.w3.org/2000/svg\" height=\"24px\"viewBox=\"0 0 24 24\"\n",
              "       width=\"24px\">\n",
              "    <path d=\"M0 0h24v24H0V0z\" fill=\"none\"/>\n",
              "    <path d=\"M18.56 5.44l.94 2.06.94-2.06 2.06-.94-2.06-.94-.94-2.06-.94 2.06-2.06.94zm-11 1L8.5 8.5l.94-2.06 2.06-.94-2.06-.94L8.5 2.5l-.94 2.06-2.06.94zm10 10l.94 2.06.94-2.06 2.06-.94-2.06-.94-.94-2.06-.94 2.06-2.06.94z\"/><path d=\"M17.41 7.96l-1.37-1.37c-.4-.4-.92-.59-1.43-.59-.52 0-1.04.2-1.43.59L10.3 9.45l-7.72 7.72c-.78.78-.78 2.05 0 2.83L4 21.41c.39.39.9.59 1.41.59.51 0 1.02-.2 1.41-.59l7.78-7.78 2.81-2.81c.8-.78.8-2.07 0-2.86zM5.41 20L4 18.59l7.72-7.72 1.47 1.35L5.41 20z\"/>\n",
              "  </svg>\n",
              "      </button>\n",
              "      \n",
              "  <style>\n",
              "    .colab-df-container {\n",
              "      display:flex;\n",
              "      flex-wrap:wrap;\n",
              "      gap: 12px;\n",
              "    }\n",
              "\n",
              "    .colab-df-convert {\n",
              "      background-color: #E8F0FE;\n",
              "      border: none;\n",
              "      border-radius: 50%;\n",
              "      cursor: pointer;\n",
              "      display: none;\n",
              "      fill: #1967D2;\n",
              "      height: 32px;\n",
              "      padding: 0 0 0 0;\n",
              "      width: 32px;\n",
              "    }\n",
              "\n",
              "    .colab-df-convert:hover {\n",
              "      background-color: #E2EBFA;\n",
              "      box-shadow: 0px 1px 2px rgba(60, 64, 67, 0.3), 0px 1px 3px 1px rgba(60, 64, 67, 0.15);\n",
              "      fill: #174EA6;\n",
              "    }\n",
              "\n",
              "    [theme=dark] .colab-df-convert {\n",
              "      background-color: #3B4455;\n",
              "      fill: #D2E3FC;\n",
              "    }\n",
              "\n",
              "    [theme=dark] .colab-df-convert:hover {\n",
              "      background-color: #434B5C;\n",
              "      box-shadow: 0px 1px 3px 1px rgba(0, 0, 0, 0.15);\n",
              "      filter: drop-shadow(0px 1px 2px rgba(0, 0, 0, 0.3));\n",
              "      fill: #FFFFFF;\n",
              "    }\n",
              "  </style>\n",
              "\n",
              "      <script>\n",
              "        const buttonEl =\n",
              "          document.querySelector('#df-915e8277-5a2b-49af-a9b2-a5d9dfebf96e button.colab-df-convert');\n",
              "        buttonEl.style.display =\n",
              "          google.colab.kernel.accessAllowed ? 'block' : 'none';\n",
              "\n",
              "        async function convertToInteractive(key) {\n",
              "          const element = document.querySelector('#df-915e8277-5a2b-49af-a9b2-a5d9dfebf96e');\n",
              "          const dataTable =\n",
              "            await google.colab.kernel.invokeFunction('convertToInteractive',\n",
              "                                                     [key], {});\n",
              "          if (!dataTable) return;\n",
              "\n",
              "          const docLinkHtml = 'Like what you see? Visit the ' +\n",
              "            '<a target=\"_blank\" href=https://colab.research.google.com/notebooks/data_table.ipynb>data table notebook</a>'\n",
              "            + ' to learn more about interactive tables.';\n",
              "          element.innerHTML = '';\n",
              "          dataTable['output_type'] = 'display_data';\n",
              "          await google.colab.output.renderOutput(dataTable, element);\n",
              "          const docLink = document.createElement('div');\n",
              "          docLink.innerHTML = docLinkHtml;\n",
              "          element.appendChild(docLink);\n",
              "        }\n",
              "      </script>\n",
              "    </div>\n",
              "  </div>\n",
              "  "
            ]
          },
          "metadata": {},
          "execution_count": 43
        }
      ]
    },
    {
      "cell_type": "markdown",
      "source": [
        "* Готовий датасет завантажуємо в новий файл .csv:"
      ],
      "metadata": {
        "id": "4gJpUoE4Geuy"
      }
    },
    {
      "cell_type": "code",
      "source": [
        "dataset.to_csv(\"/content/drive/MyDrive/Firearms.csv\", sep=',', encoding='utf-8')"
      ],
      "metadata": {
        "id": "md3xiqoLGe8C"
      },
      "execution_count": 44,
      "outputs": []
    }
  ]
}